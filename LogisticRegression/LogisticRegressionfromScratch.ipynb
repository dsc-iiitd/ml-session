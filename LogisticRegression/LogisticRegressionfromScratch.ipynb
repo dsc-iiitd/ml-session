{
 "cells": [
  {
   "cell_type": "code",
   "execution_count": 299,
   "metadata": {},
   "outputs": [],
   "source": [
    "import numpy as np\n",
    "import pandas as pd\n",
    "import math\n",
    "import matplotlib.pyplot as plt"
   ]
  },
  {
   "cell_type": "code",
   "execution_count": 300,
   "metadata": {},
   "outputs": [],
   "source": [
    "train=pd.read_csv('Logistic Regression/train.csv',header=None)"
   ]
  },
  {
   "cell_type": "code",
   "execution_count": 301,
   "metadata": {},
   "outputs": [],
   "source": [
    "test=pd.read_csv('Logistic Regression/test.csv',header=None)"
   ]
  },
  {
   "cell_type": "code",
   "execution_count": 302,
   "metadata": {},
   "outputs": [
    {
     "data": {
      "text/html": [
       "<div>\n",
       "<style scoped>\n",
       "    .dataframe tbody tr th:only-of-type {\n",
       "        vertical-align: middle;\n",
       "    }\n",
       "\n",
       "    .dataframe tbody tr th {\n",
       "        vertical-align: top;\n",
       "    }\n",
       "\n",
       "    .dataframe thead th {\n",
       "        text-align: right;\n",
       "    }\n",
       "</style>\n",
       "<table border=\"1\" class=\"dataframe\">\n",
       "  <thead>\n",
       "    <tr style=\"text-align: right;\">\n",
       "      <th></th>\n",
       "      <th>0</th>\n",
       "      <th>1</th>\n",
       "      <th>2</th>\n",
       "      <th>3</th>\n",
       "      <th>4</th>\n",
       "      <th>5</th>\n",
       "      <th>6</th>\n",
       "      <th>7</th>\n",
       "      <th>8</th>\n",
       "      <th>9</th>\n",
       "      <th>10</th>\n",
       "      <th>11</th>\n",
       "      <th>12</th>\n",
       "      <th>13</th>\n",
       "    </tr>\n",
       "  </thead>\n",
       "  <tbody>\n",
       "    <tr>\n",
       "      <th>0</th>\n",
       "      <td>-1</td>\n",
       "      <td>0</td>\n",
       "      <td>0</td>\n",
       "      <td>-2</td>\n",
       "      <td>-1</td>\n",
       "      <td>0</td>\n",
       "      <td>0</td>\n",
       "      <td>0</td>\n",
       "      <td>-2</td>\n",
       "      <td>0</td>\n",
       "      <td>0</td>\n",
       "      <td>0</td>\n",
       "      <td>0</td>\n",
       "      <td>0</td>\n",
       "    </tr>\n",
       "    <tr>\n",
       "      <th>1</th>\n",
       "      <td>0</td>\n",
       "      <td>0</td>\n",
       "      <td>0</td>\n",
       "      <td>0</td>\n",
       "      <td>0</td>\n",
       "      <td>0</td>\n",
       "      <td>0</td>\n",
       "      <td>0</td>\n",
       "      <td>0</td>\n",
       "      <td>0</td>\n",
       "      <td>0</td>\n",
       "      <td>0</td>\n",
       "      <td>0</td>\n",
       "      <td>0</td>\n",
       "    </tr>\n",
       "    <tr>\n",
       "      <th>2</th>\n",
       "      <td>0</td>\n",
       "      <td>-1</td>\n",
       "      <td>1</td>\n",
       "      <td>0</td>\n",
       "      <td>0</td>\n",
       "      <td>0</td>\n",
       "      <td>1</td>\n",
       "      <td>0</td>\n",
       "      <td>0</td>\n",
       "      <td>0</td>\n",
       "      <td>0</td>\n",
       "      <td>0</td>\n",
       "      <td>0</td>\n",
       "      <td>0</td>\n",
       "    </tr>\n",
       "    <tr>\n",
       "      <th>3</th>\n",
       "      <td>0</td>\n",
       "      <td>0</td>\n",
       "      <td>0</td>\n",
       "      <td>1</td>\n",
       "      <td>0</td>\n",
       "      <td>0</td>\n",
       "      <td>0</td>\n",
       "      <td>0</td>\n",
       "      <td>-2</td>\n",
       "      <td>0</td>\n",
       "      <td>0</td>\n",
       "      <td>0</td>\n",
       "      <td>0</td>\n",
       "      <td>0</td>\n",
       "    </tr>\n",
       "    <tr>\n",
       "      <th>4</th>\n",
       "      <td>0</td>\n",
       "      <td>0</td>\n",
       "      <td>0</td>\n",
       "      <td>-2</td>\n",
       "      <td>-1</td>\n",
       "      <td>0</td>\n",
       "      <td>0</td>\n",
       "      <td>0</td>\n",
       "      <td>0</td>\n",
       "      <td>0</td>\n",
       "      <td>0</td>\n",
       "      <td>0</td>\n",
       "      <td>0</td>\n",
       "      <td>0</td>\n",
       "    </tr>\n",
       "  </tbody>\n",
       "</table>\n",
       "</div>"
      ],
      "text/plain": [
       "   0   1   2   3   4   5   6   7   8   9   10  11  12  13\n",
       "0  -1   0   0  -2  -1   0   0   0  -2   0   0   0   0   0\n",
       "1   0   0   0   0   0   0   0   0   0   0   0   0   0   0\n",
       "2   0  -1   1   0   0   0   1   0   0   0   0   0   0   0\n",
       "3   0   0   0   1   0   0   0   0  -2   0   0   0   0   0\n",
       "4   0   0   0  -2  -1   0   0   0   0   0   0   0   0   0"
      ]
     },
     "execution_count": 302,
     "metadata": {},
     "output_type": "execute_result"
    }
   ],
   "source": [
    "xtest.head()"
   ]
  },
  {
   "cell_type": "code",
   "execution_count": 303,
   "metadata": {},
   "outputs": [],
   "source": [
    "from sklearn.preprocessing import LabelEncoder"
   ]
  },
  {
   "cell_type": "code",
   "execution_count": 304,
   "metadata": {},
   "outputs": [],
   "source": [
    "enc=LabelEncoder()\n",
    "train.iloc[:,1]=enc.fit_transform(train.iloc[:,1])\n",
    "test.iloc[:,1]=enc.transform(test.iloc[:,1])\n",
    "train.iloc[:,3]=enc.fit_transform(train.iloc[:,3])\n",
    "test.iloc[:,3]=enc.transform(test.iloc[:,3])\n",
    "train.iloc[:,5]=enc.fit_transform(train.iloc[:,5])\n",
    "test.iloc[:,5]=enc.transform(test.iloc[:,5])\n",
    "train.iloc[:,6]=enc.fit_transform(train.iloc[:,6])\n",
    "test.iloc[:,6]=enc.transform(test.iloc[:,6])\n",
    "train.iloc[:,7]=enc.fit_transform(train.iloc[:,7])\n",
    "test.iloc[:,7]=enc.transform(test.iloc[:,7])\n",
    "train.iloc[:,8]=enc.fit_transform(train.iloc[:,8])\n",
    "test.iloc[:,8]=enc.transform(test.iloc[:,8])\n",
    "train.iloc[:,9]=enc.fit_transform(train.iloc[:,9])\n",
    "test.iloc[:,9]=enc.transform(test.iloc[:,9])\n",
    "train.iloc[:,13]=enc.fit_transform(train.iloc[:,13])\n",
    "test.iloc[:,13]=enc.transform(test.iloc[:,13])\n",
    "train.iloc[:,14]=enc.fit_transform(train.iloc[:,14])\n",
    "test.iloc[:,14]=enc.fit_transform(test.iloc[:,14])"
   ]
  },
  {
   "cell_type": "code",
   "execution_count": 305,
   "metadata": {},
   "outputs": [],
   "source": [
    "xtrain=train.iloc[:,0:14]\n",
    "ytrain=train.iloc[:,14]\n",
    "xtest=test.iloc[:,0:14]\n",
    "ytest=test.iloc[:,14]"
   ]
  },
  {
   "cell_type": "code",
   "execution_count": 306,
   "metadata": {},
   "outputs": [
    {
     "data": {
      "text/plain": [
       "39"
      ]
     },
     "execution_count": 306,
     "metadata": {},
     "output_type": "execute_result"
    }
   ],
   "source": [
    "xtrain[0][0]"
   ]
  },
  {
   "cell_type": "markdown",
   "metadata": {},
   "source": [
    "# normalising the data"
   ]
  },
  {
   "cell_type": "code",
   "execution_count": 307,
   "metadata": {},
   "outputs": [
    {
     "data": {
      "text/html": [
       "<div>\n",
       "<style scoped>\n",
       "    .dataframe tbody tr th:only-of-type {\n",
       "        vertical-align: middle;\n",
       "    }\n",
       "\n",
       "    .dataframe tbody tr th {\n",
       "        vertical-align: top;\n",
       "    }\n",
       "\n",
       "    .dataframe thead th {\n",
       "        text-align: right;\n",
       "    }\n",
       "</style>\n",
       "<table border=\"1\" class=\"dataframe\">\n",
       "  <thead>\n",
       "    <tr style=\"text-align: right;\">\n",
       "      <th></th>\n",
       "      <th>0</th>\n",
       "      <th>1</th>\n",
       "      <th>2</th>\n",
       "      <th>3</th>\n",
       "      <th>4</th>\n",
       "      <th>5</th>\n",
       "      <th>6</th>\n",
       "      <th>7</th>\n",
       "      <th>8</th>\n",
       "      <th>9</th>\n",
       "      <th>10</th>\n",
       "      <th>11</th>\n",
       "      <th>12</th>\n",
       "      <th>13</th>\n",
       "    </tr>\n",
       "  </thead>\n",
       "  <tbody>\n",
       "    <tr>\n",
       "      <th>count</th>\n",
       "      <td>30162.000000</td>\n",
       "      <td>30162.000000</td>\n",
       "      <td>3.016200e+04</td>\n",
       "      <td>30162.000000</td>\n",
       "      <td>30162.000000</td>\n",
       "      <td>30162.000000</td>\n",
       "      <td>30162.000000</td>\n",
       "      <td>30162.000000</td>\n",
       "      <td>30162.000000</td>\n",
       "      <td>30162.000000</td>\n",
       "      <td>30162.000000</td>\n",
       "      <td>30162.000000</td>\n",
       "      <td>30162.000000</td>\n",
       "      <td>30162.000000</td>\n",
       "    </tr>\n",
       "    <tr>\n",
       "      <th>mean</th>\n",
       "      <td>38.437902</td>\n",
       "      <td>2.199324</td>\n",
       "      <td>1.897938e+05</td>\n",
       "      <td>10.333764</td>\n",
       "      <td>10.121312</td>\n",
       "      <td>2.580134</td>\n",
       "      <td>5.959850</td>\n",
       "      <td>1.418341</td>\n",
       "      <td>3.678602</td>\n",
       "      <td>0.675685</td>\n",
       "      <td>1092.007858</td>\n",
       "      <td>88.372489</td>\n",
       "      <td>40.931238</td>\n",
       "      <td>36.382567</td>\n",
       "    </tr>\n",
       "    <tr>\n",
       "      <th>std</th>\n",
       "      <td>13.134665</td>\n",
       "      <td>0.953925</td>\n",
       "      <td>1.056530e+05</td>\n",
       "      <td>3.812292</td>\n",
       "      <td>2.549995</td>\n",
       "      <td>1.498016</td>\n",
       "      <td>4.029566</td>\n",
       "      <td>1.601338</td>\n",
       "      <td>0.834709</td>\n",
       "      <td>0.468126</td>\n",
       "      <td>7406.346497</td>\n",
       "      <td>404.298370</td>\n",
       "      <td>11.979984</td>\n",
       "      <td>6.105372</td>\n",
       "    </tr>\n",
       "    <tr>\n",
       "      <th>min</th>\n",
       "      <td>17.000000</td>\n",
       "      <td>0.000000</td>\n",
       "      <td>1.376900e+04</td>\n",
       "      <td>0.000000</td>\n",
       "      <td>1.000000</td>\n",
       "      <td>0.000000</td>\n",
       "      <td>0.000000</td>\n",
       "      <td>0.000000</td>\n",
       "      <td>0.000000</td>\n",
       "      <td>0.000000</td>\n",
       "      <td>0.000000</td>\n",
       "      <td>0.000000</td>\n",
       "      <td>1.000000</td>\n",
       "      <td>0.000000</td>\n",
       "    </tr>\n",
       "    <tr>\n",
       "      <th>25%</th>\n",
       "      <td>28.000000</td>\n",
       "      <td>2.000000</td>\n",
       "      <td>1.176272e+05</td>\n",
       "      <td>9.000000</td>\n",
       "      <td>9.000000</td>\n",
       "      <td>2.000000</td>\n",
       "      <td>2.000000</td>\n",
       "      <td>0.000000</td>\n",
       "      <td>4.000000</td>\n",
       "      <td>0.000000</td>\n",
       "      <td>0.000000</td>\n",
       "      <td>0.000000</td>\n",
       "      <td>40.000000</td>\n",
       "      <td>38.000000</td>\n",
       "    </tr>\n",
       "    <tr>\n",
       "      <th>50%</th>\n",
       "      <td>37.000000</td>\n",
       "      <td>2.000000</td>\n",
       "      <td>1.784250e+05</td>\n",
       "      <td>11.000000</td>\n",
       "      <td>10.000000</td>\n",
       "      <td>2.000000</td>\n",
       "      <td>6.000000</td>\n",
       "      <td>1.000000</td>\n",
       "      <td>4.000000</td>\n",
       "      <td>1.000000</td>\n",
       "      <td>0.000000</td>\n",
       "      <td>0.000000</td>\n",
       "      <td>40.000000</td>\n",
       "      <td>38.000000</td>\n",
       "    </tr>\n",
       "    <tr>\n",
       "      <th>75%</th>\n",
       "      <td>47.000000</td>\n",
       "      <td>2.000000</td>\n",
       "      <td>2.376285e+05</td>\n",
       "      <td>12.000000</td>\n",
       "      <td>13.000000</td>\n",
       "      <td>4.000000</td>\n",
       "      <td>9.000000</td>\n",
       "      <td>3.000000</td>\n",
       "      <td>4.000000</td>\n",
       "      <td>1.000000</td>\n",
       "      <td>0.000000</td>\n",
       "      <td>0.000000</td>\n",
       "      <td>45.000000</td>\n",
       "      <td>38.000000</td>\n",
       "    </tr>\n",
       "    <tr>\n",
       "      <th>max</th>\n",
       "      <td>90.000000</td>\n",
       "      <td>6.000000</td>\n",
       "      <td>1.484705e+06</td>\n",
       "      <td>15.000000</td>\n",
       "      <td>16.000000</td>\n",
       "      <td>6.000000</td>\n",
       "      <td>13.000000</td>\n",
       "      <td>5.000000</td>\n",
       "      <td>4.000000</td>\n",
       "      <td>1.000000</td>\n",
       "      <td>99999.000000</td>\n",
       "      <td>4356.000000</td>\n",
       "      <td>99.000000</td>\n",
       "      <td>40.000000</td>\n",
       "    </tr>\n",
       "  </tbody>\n",
       "</table>\n",
       "</div>"
      ],
      "text/plain": [
       "                 0             1             2             3             4   \\\n",
       "count  30162.000000  30162.000000  3.016200e+04  30162.000000  30162.000000   \n",
       "mean      38.437902      2.199324  1.897938e+05     10.333764     10.121312   \n",
       "std       13.134665      0.953925  1.056530e+05      3.812292      2.549995   \n",
       "min       17.000000      0.000000  1.376900e+04      0.000000      1.000000   \n",
       "25%       28.000000      2.000000  1.176272e+05      9.000000      9.000000   \n",
       "50%       37.000000      2.000000  1.784250e+05     11.000000     10.000000   \n",
       "75%       47.000000      2.000000  2.376285e+05     12.000000     13.000000   \n",
       "max       90.000000      6.000000  1.484705e+06     15.000000     16.000000   \n",
       "\n",
       "                 5             6             7             8             9   \\\n",
       "count  30162.000000  30162.000000  30162.000000  30162.000000  30162.000000   \n",
       "mean       2.580134      5.959850      1.418341      3.678602      0.675685   \n",
       "std        1.498016      4.029566      1.601338      0.834709      0.468126   \n",
       "min        0.000000      0.000000      0.000000      0.000000      0.000000   \n",
       "25%        2.000000      2.000000      0.000000      4.000000      0.000000   \n",
       "50%        2.000000      6.000000      1.000000      4.000000      1.000000   \n",
       "75%        4.000000      9.000000      3.000000      4.000000      1.000000   \n",
       "max        6.000000     13.000000      5.000000      4.000000      1.000000   \n",
       "\n",
       "                 10            11            12            13  \n",
       "count  30162.000000  30162.000000  30162.000000  30162.000000  \n",
       "mean    1092.007858     88.372489     40.931238     36.382567  \n",
       "std     7406.346497    404.298370     11.979984      6.105372  \n",
       "min        0.000000      0.000000      1.000000      0.000000  \n",
       "25%        0.000000      0.000000     40.000000     38.000000  \n",
       "50%        0.000000      0.000000     40.000000     38.000000  \n",
       "75%        0.000000      0.000000     45.000000     38.000000  \n",
       "max    99999.000000   4356.000000     99.000000     40.000000  "
      ]
     },
     "execution_count": 307,
     "metadata": {},
     "output_type": "execute_result"
    }
   ],
   "source": [
    "desc"
   ]
  },
  {
   "cell_type": "code",
   "execution_count": 308,
   "metadata": {},
   "outputs": [
    {
     "data": {
      "text/plain": [
       "count    30162.000000\n",
       "mean        38.437902\n",
       "std         13.134665\n",
       "min         17.000000\n",
       "25%         28.000000\n",
       "50%         37.000000\n",
       "75%         47.000000\n",
       "max         90.000000\n",
       "Name: 0, dtype: float64"
      ]
     },
     "execution_count": 308,
     "metadata": {},
     "output_type": "execute_result"
    }
   ],
   "source": [
    "desc[0]"
   ]
  },
  {
   "cell_type": "code",
   "execution_count": 309,
   "metadata": {},
   "outputs": [],
   "source": [
    "desc=xtrain.describe()\n",
    "for i in range(14):\n",
    "    m=desc[i][1]\n",
    "    s=desc[i][2]                                 #scaling train data\n",
    "    for j in range(len(xtrain)):\n",
    "        xtrain[i][j]=(xtrain[i][j]-m)/s\n",
    "        "
   ]
  },
  {
   "cell_type": "code",
   "execution_count": 310,
   "metadata": {},
   "outputs": [],
   "source": [
    "desc2=xtest.describe()\n",
    "for i in range(14):\n",
    "    m=desc[i][1]                   #scaling test data\n",
    "    s=desc[i][2]\n",
    "    for j in range(len(xtest)):\n",
    "        xtest[i][j]=(xtest[i][j]-m)/s"
   ]
  },
  {
   "cell_type": "code",
   "execution_count": 311,
   "metadata": {},
   "outputs": [],
   "source": [
    "class logreg:\n",
    "    def __init__(self,typ, lrate=0.01, num_iter=10000, fit_b=True):\n",
    "        self.lr = lrate\n",
    "        self.num_iter = num_iter\n",
    "        self.fit_b = fit_b\n",
    "        self.type=typ\n",
    "    \n",
    "    def __add_intercept(self, x):\n",
    "        b = np.ones((x.shape[0], 1))\n",
    "        return np.concatenate((b, x), axis=1)\n",
    "    \n",
    "    def __sigmoid(self, m,x):\n",
    "        return 1 / (1 + np.exp(-np.dot(m,x)))\n",
    "    \n",
    "    def __sigmoidl1(self, m,x):\n",
    "        return (1 / (1 + np.exp(-np.dot(m,x))) ) + abs(m.mean())      # l1 regularization\n",
    "    \n",
    "    def __sigmoidl2(self, m,x):\n",
    "        return 1 / (1 + np.exp(-np.dot(m,x))) + (m.mean())**2       #l2 regularization\n",
    "    \n",
    "    def __loss(self, h, y):\n",
    "        return (-y * np.log(h) - (1 - y) * np.log(1 - h)).mean()\n",
    "    \n",
    "    def fit(self, x, y):\n",
    "        if self.fit_b:\n",
    "            x = self.__add_intercept(x)\n",
    "        \n",
    "        self.m = np.zeros(x.shape[1])\n",
    "        loss=[]\n",
    "        for i in range(self.num_iter):\n",
    "            if(self.type=='nrml'):\n",
    "                h = self.__sigmoid(x, self.m)\n",
    "            elif(self.type=='l1'):\n",
    "                h = self.__sigmoidl1(x, self.m)\n",
    "            elif(self.type=='l2'):\n",
    "                h = self.__sigmoidl2(x, self.m)\n",
    "            gradient = np.dot(x.T, (h - y)) / y.size\n",
    "            self.m -= self.lr * gradient\n",
    "            loss.append(self.__loss(h,y))\n",
    "            if(i % 1000 == 0):\n",
    "                if(self.type=='nrml'):\n",
    "                    h = self.__sigmoid(x, self.m)\n",
    "                elif(self.type=='l1'):\n",
    "                    h = self.__sigmoidl1(x, self.m)\n",
    "                elif(self.type=='l2'):\n",
    "                    h = self.__sigmoidl2(x, self.m)\n",
    "                print(f'loss: {self.__loss(h, y)} \\t')\n",
    "        plt.plot([i for i in range(len(loss))],loss)\n",
    "        plt.xlabel('Iterations')\n",
    "        plt.ylabel('Loss')\n",
    "        plt.show()\n",
    "    def predict_prob(self, x):\n",
    "        if self.fit_b:\n",
    "            x = self.__add_intercept(x)\n",
    "    \n",
    "        return self.__sigmoid(x, self.m)\n",
    "    \n",
    "    def predict(self, x, threshold=0.5):\n",
    "        return self.predict_prob(x) >= threshold\n"
   ]
  },
  {
   "cell_type": "code",
   "execution_count": 312,
   "metadata": {},
   "outputs": [
    {
     "name": "stdout",
     "output_type": "stream",
     "text": [
      "loss: 0.6920593911152333 \t\n",
      "loss: 0.4718875575253174 \t\n",
      "loss: 0.4491039787183019 \t\n",
      "loss: 0.4399361993534688 \t\n",
      "loss: 0.43482033676960047 \t\n",
      "loss: 0.4314590156077088 \t\n",
      "loss: 0.42903310371859177 \t\n",
      "loss: 0.42717833183755377 \t\n",
      "loss: 0.4257058853848301 \t\n",
      "loss: 0.42450614883838994 \t\n"
     ]
    },
    {
     "data": {
      "image/png": "[encoded data removed]",
      "text/plain": [
       "<Figure size 432x288 with 1 Axes>"
      ]
     },
     "metadata": {},
     "output_type": "display_data"
    },
    {
     "data": {
      "text/plain": [
       "0.7955511288180611"
      ]
     },
     "execution_count": 312,
     "metadata": {},
     "output_type": "execute_result"
    }
   ],
   "source": [
    "clf=logreg(typ='nrml')\n",
    "\n",
    "clf.fit(xtrain,ytrain)            #normal logistic regression analysis\n",
    "\n",
    "preds = clf.predict(xtest)\n",
    "# accuracy normal\n",
    "(preds == ytest).mean()"
   ]
  },
  {
   "cell_type": "code",
   "execution_count": 313,
   "metadata": {},
   "outputs": [
    {
     "data": {
      "text/plain": [
       "0.7958689742059545"
      ]
     },
     "execution_count": 313,
     "metadata": {},
     "output_type": "execute_result"
    }
   ],
   "source": [
    "(clf.predict(xtrain) == ytrain).mean()      #accuracy on train data"
   ]
  },
  {
   "cell_type": "code",
   "execution_count": 314,
   "metadata": {},
   "outputs": [
    {
     "name": "stdout",
     "output_type": "stream",
     "text": [
      "loss: 0.7618290729104406 \t\n"
     ]
    },
    {
     "name": "stderr",
     "output_type": "stream",
     "text": [
      "/anaconda3/lib/python3.6/site-packages/ipykernel_launcher.py:22: RuntimeWarning: invalid value encountered in log\n"
     ]
    },
    {
     "name": "stdout",
     "output_type": "stream",
     "text": [
      "loss: 0.4821719590099346 \t\n",
      "loss: 0.4598671875728257 \t\n",
      "loss: 0.45140440768641243 \t\n",
      "loss: 0.44703851610895484 \t\n",
      "loss: 0.44380555320488635 \t\n",
      "loss: 0.44155976041696454 \t\n",
      "loss: 0.44035446751694846 \t\n",
      "loss: 0.43933788316792743 \t\n",
      "loss: 0.4390231619039337 \t\n"
     ]
    },
    {
     "data": {
      "image/png": "[encoded data removed]",
      "text/plain": [
       "<Figure size 432x288 with 1 Axes>"
      ]
     },
     "metadata": {},
     "output_type": "display_data"
    },
    {
     "data": {
      "text/plain": [
       "0.7916998671978752"
      ]
     },
     "execution_count": 314,
     "metadata": {},
     "output_type": "execute_result"
    }
   ],
   "source": [
    "clf2=logreg(typ='l1')\n",
    "clf2.fit(xtrain,ytrain)\n",
    "preds = clf2.predict(xtest)      #l1 regularized log reg analysis\n",
    "# accuracy l1\n",
    "(preds == ytest).mean()"
   ]
  },
  {
   "cell_type": "code",
   "execution_count": 315,
   "metadata": {},
   "outputs": [
    {
     "data": {
      "text/plain": [
       "0.7912936807903985"
      ]
     },
     "execution_count": 315,
     "metadata": {},
     "output_type": "execute_result"
    }
   ],
   "source": [
    "(clf2.predict(xtrain) == ytrain).mean()     #accuracy on train data"
   ]
  },
  {
   "cell_type": "code",
   "execution_count": 316,
   "metadata": {},
   "outputs": [
    {
     "name": "stdout",
     "output_type": "stream",
     "text": [
      "loss: 0.6959158563454614 \t\n",
      "loss: 0.47237870644499136 \t\n"
     ]
    },
    {
     "name": "stderr",
     "output_type": "stream",
     "text": [
      "/anaconda3/lib/python3.6/site-packages/ipykernel_launcher.py:22: RuntimeWarning: invalid value encountered in log\n"
     ]
    },
    {
     "name": "stdout",
     "output_type": "stream",
     "text": [
      "loss: 0.449956184627613 \t\n",
      "loss: 0.442054853254005 \t\n",
      "loss: 0.43726864524822173 \t\n",
      "loss: 0.43396849889625966 \t\n",
      "loss: 0.43155277052831564 \t\n",
      "loss: 0.4296994232031968 \t\n",
      "loss: 0.4282347603598283 \t\n",
      "loss: 0.4270552375711523 \t\n"
     ]
    },
    {
     "data": {
      "image/png": "[encoded data removed]",
      "text/plain": [
       "<Figure size 432x288 with 1 Axes>"
      ]
     },
     "metadata": {},
     "output_type": "display_data"
    },
    {
     "data": {
      "text/plain": [
       "0.7939575033200531"
      ]
     },
     "execution_count": 316,
     "metadata": {},
     "output_type": "execute_result"
    }
   ],
   "source": [
    "clf3=logreg(typ='l2')\n",
    "clf3.fit(xtrain,ytrain)\n",
    "preds = clf3.predict(xtest)            #l2 regularized log reg analysis\n",
    "# accuracy l2\n",
    "(preds == ytest).mean()"
   ]
  },
  {
   "cell_type": "code",
   "execution_count": 317,
   "metadata": {},
   "outputs": [
    {
     "data": {
      "text/plain": [
       "0.7942775678005437"
      ]
     },
     "execution_count": 317,
     "metadata": {},
     "output_type": "execute_result"
    }
   ],
   "source": [
    "(clf3.predict(xtrain) == ytrain).mean()    #accuracy on train data"
   ]
  },
  {
   "cell_type": "code",
   "execution_count": null,
   "metadata": {},
   "outputs": [],
   "source": []
  }
 ],
 "metadata": {
  "kernelspec": {
   "display_name": "Python 3",
   "language": "python",
   "name": "python3"
  },
  "language_info": {
   "codemirror_mode": {
    "name": "ipython",
    "version": 3
   },
   "file_extension": ".py",
   "mimetype": "text/x-python",
   "name": "python",
   "nbconvert_exporter": "python",
   "pygments_lexer": "ipython3",
   "version": "3.6.5"
  }
 },
 "nbformat": 4,
 "nbformat_minor": 2
}
